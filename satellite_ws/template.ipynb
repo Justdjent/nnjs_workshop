{
 "cells": [
  {
   "cell_type": "code",
   "execution_count": 2,
   "metadata": {},
   "outputs": [],
   "source": [
    "import os\n",
    "import rasterio\n",
    "from rasterio.plot import reshape_as_image\n",
    "import rasterio.mask\n",
    "from rasterio.features import rasterize\n",
    "import pandas as pd\n",
    "import geopandas as gpd\n",
    "from shapely.geometry import mapping, Point, Polygon\n",
    "from shapely.ops import cascaded_union\n",
    "import numpy as np\n",
    "import matplotlib.pyplot as plt\n",
    "from tqdm import tqdm\n",
    "from geopandas import GeoSeries\n",
    "from shapely.geometry import Polygon\n",
    "from rasterio.windows import Window\n",
    "from rasterio.plot import reshape_as_image\n",
    "import keras\n",
    "from keras import backend as K\n",
    "from keras import layers\n",
    "from keras.models import Model, load_model\n",
    "from keras.layers import Input\n",
    "from keras.layers.convolutional import Conv2D, Conv2DTranspose, UpSampling2D\n",
    "from keras.layers.pooling import MaxPooling2D\n",
    "from keras.layers.merge import concatenate\n",
    "from keras.optimizers import Adam\n",
    "from keras.losses import binary_crossentropy\n",
    "from keras.callbacks import Callback, ModelCheckpoint, EarlyStopping, ReduceLROnPlateau\n",
    "\n",
    "%matplotlib inline"
   ]
  },
  {
   "cell_type": "markdown",
   "metadata": {},
   "source": [
    "2 most usefull types of satellite imagery:\n",
    "\n",
    "* Sentinel-2\n",
    "    \n",
    "    Max - 10 meters per pixel\n",
    "    \n",
    "    Download tiles: https://scihub.copernicus.eu/dhus/#/home\n",
    "\n",
    "\n",
    "\n",
    "\n",
    "* Landsat-8\n",
    "\n",
    "    Max - 30 meters per pixel\n",
    "    \n",
    "    Download tiles: https://earthexplorer.usgs.gov/"
   ]
  },
  {
   "cell_type": "markdown",
   "metadata": {},
   "source": [
    "Reading Raster with rasterio"
   ]
  },
  {
   "cell_type": "code",
   "execution_count": null,
   "metadata": {},
   "outputs": [],
   "source": [
    "#read image"
   ]
  },
  {
   "cell_type": "code",
   "execution_count": null,
   "metadata": {},
   "outputs": [],
   "source": [
    "#check shape"
   ]
  },
  {
   "cell_type": "code",
   "execution_count": null,
   "metadata": {},
   "outputs": [],
   "source": [
    "#check meta"
   ]
  },
  {
   "cell_type": "code",
   "execution_count": null,
   "metadata": {},
   "outputs": [],
   "source": [
    "#plot image"
   ]
  },
  {
   "cell_type": "code",
   "execution_count": null,
   "metadata": {},
   "outputs": [],
   "source": [
    "#read train "
   ]
  },
  {
   "cell_type": "code",
   "execution_count": null,
   "metadata": {},
   "outputs": [],
   "source": [
    "#visualize polygon"
   ]
  },
  {
   "cell_type": "code",
   "execution_count": null,
   "metadata": {},
   "outputs": [],
   "source": [
    "#convert GeoDataframe to raster CRS"
   ]
  },
  {
   "cell_type": "code",
   "execution_count": null,
   "metadata": {},
   "outputs": [],
   "source": [
    "#prepare binary mask"
   ]
  },
  {
   "cell_type": "code",
   "execution_count": 3,
   "metadata": {},
   "outputs": [
    {
     "ename": "NameError",
     "evalue": "name 'src' is not defined",
     "output_type": "error",
     "traceback": [
      "\u001b[0;31m---------------------------------------------------------------------------\u001b[0m",
      "\u001b[0;31mNameError\u001b[0m                                 Traceback (most recent call last)",
      "\u001b[0;32m<ipython-input-3-9e88c39a0860>\u001b[0m in \u001b[0;36m<module>\u001b[0;34m\u001b[0m\n\u001b[0;32m----> 1\u001b[0;31m \u001b[0mbin_mask_meta\u001b[0m \u001b[0;34m=\u001b[0m \u001b[0msrc\u001b[0m\u001b[0;34m.\u001b[0m\u001b[0mmeta\u001b[0m\u001b[0;34m.\u001b[0m\u001b[0mcopy\u001b[0m\u001b[0;34m(\u001b[0m\u001b[0;34m)\u001b[0m\u001b[0;34m\u001b[0m\u001b[0;34m\u001b[0m\u001b[0m\n\u001b[0m\u001b[1;32m      2\u001b[0m \u001b[0mbin_mask_meta\u001b[0m\u001b[0;34m.\u001b[0m\u001b[0mupdate\u001b[0m\u001b[0;34m(\u001b[0m\u001b[0;34m{\u001b[0m\u001b[0;34m'count'\u001b[0m\u001b[0;34m:\u001b[0m \u001b[0;36m1\u001b[0m\u001b[0;34m}\u001b[0m\u001b[0;34m)\u001b[0m\u001b[0;34m\u001b[0m\u001b[0;34m\u001b[0m\u001b[0m\n\u001b[1;32m      3\u001b[0m \u001b[0;32mwith\u001b[0m \u001b[0mrasterio\u001b[0m\u001b[0;34m.\u001b[0m\u001b[0mopen\u001b[0m\u001b[0;34m(\u001b[0m\u001b[0;34m\"/home/quantum/train/train/train.jp2\"\u001b[0m\u001b[0;34m,\u001b[0m \u001b[0;34m'w'\u001b[0m\u001b[0;34m,\u001b[0m \u001b[0;34m**\u001b[0m\u001b[0mbin_mask_meta\u001b[0m\u001b[0;34m)\u001b[0m \u001b[0;32mas\u001b[0m \u001b[0mdst\u001b[0m\u001b[0;34m:\u001b[0m\u001b[0;34m\u001b[0m\u001b[0;34m\u001b[0m\u001b[0m\n\u001b[1;32m      4\u001b[0m     \u001b[0mdst\u001b[0m\u001b[0;34m.\u001b[0m\u001b[0mwrite\u001b[0m\u001b[0;34m(\u001b[0m\u001b[0mmask\u001b[0m\u001b[0;34m,\u001b[0m \u001b[0;36m1\u001b[0m\u001b[0;34m)\u001b[0m\u001b[0;34m\u001b[0m\u001b[0;34m\u001b[0m\u001b[0m\n",
      "\u001b[0;31mNameError\u001b[0m: name 'src' is not defined"
     ]
    }
   ],
   "source": [
    "bin_mask_meta = src.meta.copy()\n",
    "bin_mask_meta.update({'count': 1})\n",
    "with rasterio.open(\"/home/quantum/train/train/train.jp2\", 'w', **bin_mask_meta) as dst:\n",
    "    dst.write(mask, 1)"
   ]
  },
  {
   "cell_type": "code",
   "execution_count": null,
   "metadata": {},
   "outputs": [],
   "source": [
    "with rasterio.open('/home/quantum/train/train/train.jp2', \"r\", driver='JP2OpenJPEG') as src:\n",
    "    raster_image = src.read()\n",
    "    raster_meta = src.meta\n",
    "\n",
    "mask = mask.reshape((10980, 10980))\n",
    "mask = mask.astype(np.uint8)\n",
    "plt.figure(figsize=(10,10))\n",
    "plt.imshow(mask)"
   ]
  },
  {
   "cell_type": "code",
   "execution_count": null,
   "metadata": {},
   "outputs": [],
   "source": [
    "def split_image(image_path, save_path, width, height):\n",
    "    \n",
    "    img_names = []\n",
    "    \n",
    "    if not os.path.exists(save_path):\n",
    "        os.makedirs(save_path, exist_ok=True)\n",
    "        print('Data directory created.')\n",
    "\n",
    "    os.makedirs(f'{save_path}/images', exist_ok=True)\n",
    "    with rasterio.open(image_path) as src:\n",
    "        for j in tqdm(range(0, src.height // height)):\n",
    "            for i in range(0, src.width // width):\n",
    "                raster_window = src.read(\n",
    "                    window=Window(i * width, j * height, width, height)\n",
    "                )\n",
    "                image_array = reshape_as_image(raster_window)[:, :, :3]\n",
    "                if np.count_nonzero(image_array) > image_array.size * 0.9:\n",
    "                    filename_w_ext = os.path.basename(image_path)\n",
    "                    filename, _ = os.path.splitext(filename_w_ext)\n",
    "                    image_format = 'tif'\n",
    "                    piece_name = f'{filename}_{j}_{i}.{image_format}'\n",
    "\n",
    "                    image_array = reshape_as_image(raster_window)\n",
    "                    meta = src.meta\n",
    "                    meta['height'] = image_array.shape[0]\n",
    "                    meta['width'] = image_array.shape[1]\n",
    "                    img_names.append(f'{save_path}/images/{piece_name}')\n",
    "                    with rasterio.open(f'{save_path}/images/{piece_name}', 'w', **meta) as dst:\n",
    "                        for ix in range(image_array.shape[2]):\n",
    "                            dst.write(image_array[:, :, ix], ix + 1)\n",
    "\n",
    "    return img_names"
   ]
  },
  {
   "cell_type": "code",
   "execution_count": null,
   "metadata": {},
   "outputs": [],
   "source": [
    "#split mask"
   ]
  },
  {
   "cell_type": "code",
   "execution_count": null,
   "metadata": {},
   "outputs": [],
   "source": [
    "image_names = split_image('/home/quantum/S2A_MSIL1C_20170101T082332_N0204_R121_T34JEP_20170101T084543.SAFE/GRANULE/L1C_T34JEP_A007983_20170101T084543/IMG_DATA/T34JEP_20170101T082332_TCI.jp2', \n",
    "                   '/home/quantum/split', 256, 256)"
   ]
  },
  {
   "cell_type": "code",
   "execution_count": null,
   "metadata": {},
   "outputs": [],
   "source": [
    "mask_names, drop_list = split_mask('/home/quantum/train/train/train.jp2', \n",
    "                   '/home/quantum/split', 256, 256)"
   ]
  },
  {
   "cell_type": "code",
   "execution_count": null,
   "metadata": {},
   "outputs": [],
   "source": [
    "len(drop_list)"
   ]
  },
  {
   "cell_type": "code",
   "execution_count": null,
   "metadata": {},
   "outputs": [],
   "source": [
    "#select used names"
   ]
  },
  {
   "cell_type": "markdown",
   "metadata": {},
   "source": [
    "Unet architecture\n",
    "\n",
    "![title](unet.png)"
   ]
  },
  {
   "cell_type": "code",
   "execution_count": null,
   "metadata": {},
   "outputs": [],
   "source": [
    "def build_model(input_shape):\n",
    "    inputs = Input(input_shape)\n",
    "\n",
    "    conv1 = Conv2D(8, (3, 3), activation = 'relu', padding = 'same')(inputs)\n",
    "    conv1 = Conv2D(8, (3, 3), activation = 'relu', padding = 'same')(conv1)\n",
    "    pool1 = MaxPooling2D(pool_size=(2, 2))(conv1)\n",
    "    \n",
    "    conv2 = Conv2D(16, (3, 3), activation = 'relu', padding = 'same')(pool1)\n",
    "    conv2 = Conv2D(16, (3, 3), activation = 'relu', padding = 'same')(conv2)\n",
    "    pool2 = MaxPooling2D(pool_size=(2, 2))(conv2)\n",
    "    \n",
    "    conv3 = Conv2D(32, (3, 3), activation = 'relu', padding = 'same')(pool2)\n",
    "    conv3 = Conv2D(32, (3, 3), activation = 'relu', padding = 'same')(conv3)\n",
    "    pool3 = MaxPooling2D(pool_size=(2, 2))(conv3)\n",
    "    \n",
    "    conv4 = Conv2D(64, (3, 3), activation = 'relu', padding = 'same')(pool3)\n",
    "    conv4 = Conv2D(64, (3, 3), activation = 'relu', padding = 'same')(conv4)\n",
    "    pool4 = MaxPooling2D(pool_size=(2, 2))(conv4)\n",
    "\n",
    "    conv5 = Conv2D(128, (3, 3), activation = 'relu', padding = 'same')(pool4)\n",
    "    conv5 = Conv2D(128, (3, 3), activation = 'relu', padding = 'same')(conv5)\n",
    "\n",
    "    up6 = Conv2D(64, (2, 2), activation = 'relu', padding = 'same')(UpSampling2D(size = (2,2))(conv5))\n",
    "    merge6 = concatenate([conv4,up6], axis = 3)\n",
    "    conv6 = Conv2D(64, (3, 3), activation = 'relu', padding = 'same')(merge6)\n",
    "    conv6 = Conv2D(64, (3, 3), activation = 'relu', padding = 'same')(conv6)\n",
    "\n",
    "    up7 = Conv2D(32, (2, 2), activation = 'relu', padding = 'same')(UpSampling2D(size = (2,2))(conv6))\n",
    "    merge7 = concatenate([conv3,up7], axis = 3)\n",
    "    conv7 = Conv2D(32, (3, 3), activation = 'relu', padding = 'same')(merge7)\n",
    "    conv7 = Conv2D(32, (3, 3), activation = 'relu', padding = 'same')(conv7)\n",
    "\n",
    "    up8 = Conv2D(16, (2, 2), activation = 'relu', padding = 'same')(UpSampling2D(size = (2,2))(conv7))\n",
    "    merge8 = concatenate([conv2,up8], axis = 3)\n",
    "    conv8 = Conv2D(16, (3, 3), activation = 'relu', padding = 'same')(merge8)\n",
    "    conv8 = Conv2D(16, (3, 3), activation = 'relu', padding = 'same')(conv8)\n",
    "\n",
    "    up9 = Conv2D(8, (2, 2), activation = 'relu', padding = 'same')(UpSampling2D(size = (2,2))(conv8))\n",
    "    merge9 = concatenate([conv1,up9], axis = 3)\n",
    "    conv9 = Conv2D(8, (3, 3), activation = 'relu', padding = 'same')(merge9)\n",
    "    conv9 = Conv2D(8, (3, 3), activation = 'relu', padding = 'same')(conv9)\n",
    "    \n",
    "    outputs = Conv2D(1, (1,1), activation = 'sigmoid')(conv9)\n",
    "    \n",
    "    model = Model(inputs=[inputs], outputs=[outputs])\n",
    "    model.compile(optimizer=Adam(lr = 1e-4), loss=bce_dice_loss, metrics=[dice_coef])\n",
    "    \n",
    "    return model\n",
    "\n",
    "model_checkpoint = ModelCheckpoint(\"model4.hdf5\", save_best_only=True, verbose=1, monitor='dice_coef', mode='max')"
   ]
  },
  {
   "cell_type": "code",
   "execution_count": null,
   "metadata": {},
   "outputs": [],
   "source": [
    "def load_image(img_path):\n",
    "      \n",
    "    with rasterio.open(img_path, \"r\", driver='JP2OpenJPEG') as src:\n",
    "        img = src.read()\n",
    "        img = reshape_as_image(img)\n",
    "\n",
    "    return img\n",
    "\n",
    "def load_mask(img_path):\n",
    "      \n",
    "    with rasterio.open(img_path, \"r\", driver='JP2OpenJPEG') as src:\n",
    "        img = src.read()\n",
    "        img = reshape_as_image(img)\n",
    "        img[img>1]=1\n",
    "        \n",
    "    return img"
   ]
  },
  {
   "cell_type": "code",
   "execution_count": null,
   "metadata": {},
   "outputs": [],
   "source": [
    "#generate X"
   ]
  },
  {
   "cell_type": "code",
   "execution_count": null,
   "metadata": {},
   "outputs": [],
   "source": [
    "#generate Y"
   ]
  },
  {
   "cell_type": "code",
   "execution_count": null,
   "metadata": {},
   "outputs": [],
   "source": [
    "def dice_coef(y_true, y_pred, smooth=1):\n",
    "    y_true_f = K.flatten(y_true)\n",
    "    y_pred_f = K.flatten(y_pred)\n",
    "    intersection = K.sum(y_true_f * y_pred_f)\n",
    "    return (2. * intersection + smooth) / (K.sum(y_true_f) + K.sum(y_pred_f) + smooth)\n",
    "\n",
    "def dice_loss(y_true, y_pred):\n",
    "    smooth = 1.\n",
    "    y_true_f = K.flatten(y_true)\n",
    "    y_pred_f = K.flatten(y_pred)\n",
    "    intersection = y_true_f * y_pred_f\n",
    "    score = (2. * K.sum(intersection) + smooth) / (K.sum(y_true_f) + K.sum(y_pred_f) + smooth)\n",
    "    return 1. - score\n",
    "\n",
    "def bce_dice_loss(y_true, y_pred):\n",
    "    return binary_crossentropy(y_true, y_pred) + dice_loss(y_true, y_pred)"
   ]
  },
  {
   "cell_type": "code",
   "execution_count": null,
   "metadata": {},
   "outputs": [],
   "source": [
    "#set model"
   ]
  },
  {
   "cell_type": "code",
   "execution_count": null,
   "metadata": {},
   "outputs": [],
   "source": [
    "#train model"
   ]
  },
  {
   "cell_type": "code",
   "execution_count": null,
   "metadata": {},
   "outputs": [],
   "source": [
    "#load model weights"
   ]
  },
  {
   "cell_type": "code",
   "execution_count": null,
   "metadata": {},
   "outputs": [],
   "source": [
    "#check any name from images"
   ]
  },
  {
   "cell_type": "code",
   "execution_count": null,
   "metadata": {},
   "outputs": [],
   "source": [
    "#visualize image"
   ]
  },
  {
   "cell_type": "code",
   "execution_count": null,
   "metadata": {},
   "outputs": [],
   "source": [
    "#visualize mask"
   ]
  },
  {
   "cell_type": "code",
   "execution_count": null,
   "metadata": {},
   "outputs": [],
   "source": [
    "#visualize prediction"
   ]
  }
 ],
 "metadata": {
  "kernelspec": {
   "display_name": "Python 3",
   "language": "python",
   "name": "python3"
  },
  "language_info": {
   "codemirror_mode": {
    "name": "ipython",
    "version": 3
   },
   "file_extension": ".py",
   "mimetype": "text/x-python",
   "name": "python",
   "nbconvert_exporter": "python",
   "pygments_lexer": "ipython3",
   "version": "3.7.3"
  }
 },
 "nbformat": 4,
 "nbformat_minor": 2
}
